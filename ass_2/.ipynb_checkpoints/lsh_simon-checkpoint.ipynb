{
 "cells": [
  {
   "cell_type": "markdown",
   "metadata": {},
   "source": [
    "# AiDM 2019 Group 26: Assignment 2: LSH for the Netflix data"
   ]
  },
  {
   "cell_type": "markdown",
   "metadata": {},
   "source": [
    "## Part 2: LSH Algorithm"
   ]
  },
  {
   "cell_type": "markdown",
   "metadata": {},
   "source": [
    "Auke Bruinsma, s1594443 and Simon van Wageningen, s2317079."
   ]
  },
  {
   "cell_type": "code",
   "execution_count": 679,
   "metadata": {},
   "outputs": [],
   "source": [
    "# Imports\n",
    "import numpy as np\n",
    "import matplotlib.pyplot as plt\n",
    "import time\n",
    "from scipy import sparse\n",
    "import random\n",
    "random.seed(26)"
   ]
  },
  {
   "cell_type": "markdown",
   "metadata": {},
   "source": [
    "### 1. Importing the data"
   ]
  },
  {
   "cell_type": "markdown",
   "metadata": {},
   "source": [
    "The following text is taken from slide 2 of the instruction document.\n",
    "\n",
    "The data we import contains about **100.000** users that watches in total **17.700 movies**. Each user watches between **300 and 3000** movies. In total there are **65.000.000 (720 MB)** of the form:\n",
    "\n",
    "$$\\text{<user_id,movie_id>: \"user_id watched movie_id\"}$$"
   ]
  },
  {
   "cell_type": "code",
   "execution_count": 680,
   "metadata": {},
   "outputs": [],
   "source": [
    "# Import data.\n",
    "dataloc = 'data/user_movie.npy' # Location of the data file in string format.\n",
    "data = np.load(dataloc) # Import the data using numpy.load."
   ]
  },
  {
   "cell_type": "code",
   "execution_count": 681,
   "metadata": {
    "scrolled": false
   },
   "outputs": [
    {
     "data": {
      "text/plain": [
       "array([[  0,  29],\n",
       "       [  0, 156],\n",
       "       [  0, 172],\n",
       "       [  0, 174],\n",
       "       [  0, 190],\n",
       "       [  0, 196],\n",
       "       [  0, 240],\n",
       "       [  0, 294],\n",
       "       [  0, 298],\n",
       "       [  0, 328]])"
      ]
     },
     "execution_count": 681,
     "metadata": {},
     "output_type": "execute_result"
    }
   ],
   "source": [
    "data[0:10]"
   ]
  },
  {
   "cell_type": "code",
   "execution_count": 723,
   "metadata": {},
   "outputs": [
    {
     "name": "stdout",
     "output_type": "stream",
     "text": [
      "Finished user:  0\n",
      "Finished user:  1000\n",
      "Finished user:  2000\n",
      "Finished user:  3000\n",
      "Finished user:  4000\n",
      "Finished user:  5000\n",
      "Finished user:  6000\n",
      "Finished user:  7000\n",
      "Finished user:  8000\n",
      "Finished user:  9000\n",
      "Finished user:  10000\n",
      "Finished user:  11000\n",
      "Finished user:  12000\n",
      "Finished user:  13000\n",
      "Finished user:  14000\n",
      "Finished user:  15000\n",
      "Finished user:  16000\n",
      "Finished user:  17000\n",
      "Finished user:  18000\n",
      "Finished user:  19000\n",
      "Finished user:  20000\n",
      "Finished user:  21000\n",
      "Finished user:  22000\n",
      "Finished user:  23000\n",
      "Finished user:  24000\n",
      "Finished user:  25000\n",
      "Finished user:  26000\n",
      "Finished user:  27000\n",
      "Finished user:  28000\n",
      "Finished user:  29000\n",
      "Finished user:  30000\n",
      "Finished user:  31000\n",
      "Finished user:  32000\n",
      "Finished user:  33000\n",
      "Finished user:  34000\n",
      "Finished user:  35000\n",
      "Finished user:  36000\n",
      "Finished user:  37000\n",
      "Finished user:  38000\n",
      "Finished user:  39000\n",
      "Finished user:  40000\n",
      "Finished user:  41000\n",
      "Finished user:  42000\n",
      "Finished user:  43000\n",
      "Finished user:  44000\n",
      "Finished user:  45000\n",
      "Finished user:  46000\n",
      "Finished user:  47000\n",
      "Finished user:  48000\n",
      "Finished user:  49000\n",
      "Finished user:  50000\n",
      "Finished user:  51000\n",
      "Finished user:  52000\n",
      "Finished user:  53000\n",
      "Finished user:  54000\n",
      "Finished user:  55000\n",
      "Finished user:  56000\n",
      "Finished user:  57000\n",
      "Finished user:  58000\n",
      "Finished user:  59000\n",
      "Finished user:  60000\n",
      "Finished user:  61000\n",
      "Finished user:  62000\n",
      "Finished user:  63000\n",
      "Finished user:  64000\n",
      "Finished user:  65000\n",
      "Finished user:  66000\n",
      "Finished user:  67000\n",
      "Finished user:  68000\n",
      "Finished user:  69000\n",
      "Finished user:  70000\n",
      "Finished user:  71000\n",
      "Finished user:  72000\n",
      "Finished user:  73000\n",
      "Finished user:  74000\n",
      "Finished user:  75000\n",
      "Finished user:  76000\n",
      "Finished user:  77000\n",
      "Finished user:  78000\n",
      "Finished user:  79000\n",
      "Finished user:  80000\n",
      "Finished user:  81000\n",
      "Finished user:  82000\n",
      "Finished user:  83000\n",
      "Finished user:  84000\n",
      "Finished user:  85000\n",
      "Finished user:  86000\n",
      "Finished user:  87000\n",
      "Finished user:  88000\n",
      "Finished user:  89000\n",
      "Finished user:  90000\n",
      "Finished user:  91000\n",
      "Finished user:  92000\n",
      "Finished user:  93000\n",
      "Finished user:  94000\n",
      "Finished user:  95000\n",
      "Finished user:  96000\n",
      "Finished user:  97000\n",
      "Finished user:  98000\n",
      "Finished user:  99000\n",
      "Finished user:  100000\n",
      "Finished user:  101000\n",
      "Finished user:  102000\n",
      "Finished user:  103000\n",
      "Wall time: 17min 34s\n"
     ]
    }
   ],
   "source": [
    "%%time\n",
    "# LOOP\n",
    "test_n = X.shape[0] # test size, change this for testing, use X.shape[1] for the full loop\n",
    "perm_amount = 100\n",
    "\n",
    "# create the sparse matrix from the data\n",
    "X = sparse.csr_matrix((np.ones(len(data)), (data[:,0], data[:,1])), dtype=np.int8)\n",
    "# initialize the signature matrix\n",
    "sign_matrix = np.zeros(shape = (perm_amount, test_n), dtype = np.int8)\n",
    "\n",
    "# loop over all the users\n",
    "for i in range(test_n):\n",
    "    # loop over 100 permutation\n",
    "    for j in range(perm_amount):\n",
    "        # first we get the first userrow with and then the amount of its nonzero values\n",
    "        # then create a permutation and find the new (permuted) index of the first nonzero element\n",
    "        current_user = X.getrow(i)\n",
    "        loc = np.where(np.random.permutation(current_user.getnnz(axis = 1)[0]) == 1)[0][0] #optimize this\n",
    "        sign_matrix[j][i] = loc\n",
    "        \n",
    "    if i % 1000 == 0:\n",
    "        print(\"Finished user: \", i)"
   ]
  },
  {
   "cell_type": "code",
   "execution_count": 725,
   "metadata": {},
   "outputs": [],
   "source": [
    "i = 0\n",
    "perm_amount = 10000 # for testing cell, many permutations for a single user\n",
    "sign_matrix = np.zeros(shape = (perm_amount, test_n), dtype = np.int8)"
   ]
  },
  {
   "cell_type": "code",
   "execution_count": 761,
   "metadata": {},
   "outputs": [
    {
     "name": "stdout",
     "output_type": "stream",
     "text": [
      "Wall time: 1.01 s\n"
     ]
    }
   ],
   "source": [
    "%%time\n",
    "# testing cell\n",
    "# try to optimize getting the location of the permuted first nonzero element and getting the movie that \n",
    "\n",
    "for j in range(perm_amount):\n",
    "    # first we get the first userrow with and then the amount of its nonzero values\n",
    "    # then create a permutation and find the new (permuted) index of the first nonzero element\n",
    "    current_user = X.getrow(i)\n",
    "    #loc = np.nonzero(np.random.permutation(current_user.getnnz(axis = 1)[0]) == 1)[0][0] # slower?\n",
    "    loc = np.where(np.random.permutation(current_user.getnnz(axis = 1)[0]) == 1)[0][0]\n",
    "    sign_matrix[j][i] = loc\n",
    "    #sign_matrix[j][i] = np.where(np.random.permutation(current_user.getnnz(axis = 1)[0]) == 1)[0][0] #not slower"
   ]
  },
  {
   "cell_type": "code",
   "execution_count": 404,
   "metadata": {},
   "outputs": [
    {
     "data": {
      "text/plain": [
       "array([244, 252, 276, 223, 370, 153, 487,  95, 693, 271])"
      ]
     },
     "execution_count": 404,
     "metadata": {},
     "output_type": "execute_result"
    }
   ],
   "source": [
    "# first hash function/permutation\n",
    "sign_matrix[0]"
   ]
  }
 ],
 "metadata": {
  "kernelspec": {
   "display_name": "Python 3",
   "language": "python",
   "name": "python3"
  },
  "language_info": {
   "codemirror_mode": {
    "name": "ipython",
    "version": 3
   },
   "file_extension": ".py",
   "mimetype": "text/x-python",
   "name": "python",
   "nbconvert_exporter": "python",
   "pygments_lexer": "ipython3",
   "version": "3.7.4"
  }
 },
 "nbformat": 4,
 "nbformat_minor": 2
}
