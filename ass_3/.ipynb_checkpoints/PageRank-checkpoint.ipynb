{
 "cells": [
  {
   "cell_type": "markdown",
   "metadata": {},
   "source": [
    "# AiDM 2019 Group 26: Assignment 3: Structure of Wikipedia Links\n"
   ]
  },
  {
   "cell_type": "markdown",
   "metadata": {},
   "source": [
    "## Part 4: Implement PageRank algorithm from slide 18"
   ]
  },
  {
   "cell_type": "markdown",
   "metadata": {},
   "source": [
    "Auke Bruinsma, s1594443 and Simon van Wageningen, s2317079."
   ]
  },
  {
   "cell_type": "markdown",
   "metadata": {},
   "source": [
    "**Instructions slide 25**:\n",
    "\n",
    "- Store both $M$ and $v_{old}$ and $v_{new}$ (in RAM).\n",
    "- Implement the algorithm from slide 18. Run 25 iterations of this algorithm with $\\beta = 0.8$.\n",
    "- Plot the MSE of the differences (25 numbers): $v$ - $Mv$\n",
    "- How much time is needed to run a single iteration?\n",
    "- Have you obtained similar/identical results as in the previous task? What might be the source of eventual differences? "
   ]
  },
  {
   "cell_type": "markdown",
   "metadata": {},
   "source": [
    "### 1. Imports."
   ]
  },
  {
   "cell_type": "code",
   "execution_count": 1,
   "metadata": {},
   "outputs": [],
   "source": [
    "# Packages.\n",
    "import pandas as pd\n",
    "import numpy as np\n",
    "import time\n",
    "from matplotlib import pyplot as plt\n",
    "from scipy.sparse import csc_matrix"
   ]
  },
  {
   "cell_type": "code",
   "execution_count": 2,
   "metadata": {},
   "outputs": [],
   "source": [
    "# Datasets\n",
    "data = pd.read_csv(\"preprocessed_data.csv\",sep = \",\",)\n",
    "data = data.astype(int)"
   ]
  },
  {
   "cell_type": "markdown",
   "metadata": {},
   "source": [
    "### 2. Create the transition matrix $M$ and pagerank vector $v$."
   ]
  },
  {
   "cell_type": "code",
   "execution_count": 3,
   "metadata": {},
   "outputs": [],
   "source": [
    "M_ones = csc_matrix((np.ones(len(data)),(data['page_id_to'],data['page_id_from'])), dtype = int) # Transition matrix with 1's.\n",
    "c = np.reshape(np.asarray(M_ones.sum(axis=0)),np.shape(M_ones)[0]) # Find the sum so that you can divide columns.\n",
    "c[c==0]=1 # So you do not divide by zero but the column stays the same.\n",
    "M = M_ones.multiply(1/c) # Divide columns by the sum of the columns (equal weights).\n",
    "v_old = np.full(shape=np.shape(M)[1],fill_value=1/np.shape(M_ones)[1]) # Initialise page vector v."
   ]
  },
  {
   "cell_type": "markdown",
   "metadata": {},
   "source": [
    "Instead of having a sparse matrix representation of the transition matrix $M$, we want to represent the data using 'inverted indexing', as a list of <node, outdegree, children of the node> (encoded sparse matrix representation)."
   ]
  },
  {
   "cell_type": "code",
   "execution_count": 4,
   "metadata": {},
   "outputs": [],
   "source": [
    "source_nodes_list = list(np.arange(np.shape(M_ones)[1], dtype = int)) # List with all the source nodes.\n",
    "degree_list = [0] * np.shape(M_ones)[1] # List with all the degrees.\n",
    "dest_nodes_list = [0] * np.shape(M_ones)[1] # List with all the destination nodes.\n",
    "\n",
    "for i in range(np.shape(M_ones)[1]): # Loop over the columns in the transition matrix ...\n",
    "    col = M_ones.getcol(i) # ... in order to get a list of dest nodes.\n",
    "    target_nodes, cols = col.nonzero()\n",
    "    dest_nodes_list[i] = list(target_nodes)\n",
    "    degree_list[i] = len(list(target_nodes))"
   ]
  },
  {
   "cell_type": "markdown",
   "metadata": {},
   "source": [
    "### 3. Alternate Pagerank Algorithm."
   ]
  },
  {
   "cell_type": "code",
   "execution_count": 6,
   "metadata": {},
   "outputs": [],
   "source": [
    "# Function that performs the alternate pagerank algorithm.\n",
    "def alternate_pagerank(M, source, degree, destinations, v_old, beta, iterations):\n",
    "    n = np.shape(M)[1]\n",
    "    v_new = np.full(shape=n, fill_value = (1 - beta) / n) # Initialise v_new.\n",
    "    \n",
    "    MSE = [0] * iterations # The errors of each iteration will be added to this empty array.\n",
    "    \n",
    "    for it in range(iterations): # Loop over iterations.\n",
    "        start = time.time()\n",
    "        for i in range(len(source_nodes_list)): # Loop over all pages/sources.\n",
    "            degree = degree_list[i] # Get current degree of that page.\n",
    "            destinations = dest_nodes_list[i] # Get destinations of that page.\n",
    "            for j in range(len(destinations)): # Loop over destinations.\n",
    "                v_new[destinations[j]] += beta * v_old[i] / degree # Update v_new.\n",
    "        end = time.time()        \n",
    "        MSE[it] = np.mean(np.power(v_new - M.dot(v_new), 2))\n",
    "        print('Iter. {0}: {1:.2f} s'.format(it,end-start))\n",
    "    \n",
    "    return MSE"
   ]
  },
  {
   "cell_type": "code",
   "execution_count": 7,
   "metadata": {},
   "outputs": [
    {
     "name": "stdout",
     "output_type": "stream",
     "text": [
      "Iter. 0: 6.59 s\n",
      "Iter. 1: 6.60 s\n",
      "Iter. 2: 6.61 s\n",
      "Iter. 3: 6.54 s\n",
      "Iter. 4: 6.57 s\n",
      "Iter. 5: 6.60 s\n",
      "Iter. 6: 6.54 s\n",
      "Iter. 7: 6.57 s\n",
      "Iter. 8: 6.58 s\n",
      "Iter. 9: 6.57 s\n",
      "Iter. 10: 6.60 s\n",
      "Iter. 11: 6.58 s\n",
      "Iter. 12: 6.56 s\n",
      "Iter. 13: 6.55 s\n",
      "Iter. 14: 6.59 s\n",
      "Iter. 15: 6.58 s\n",
      "Iter. 16: 6.57 s\n",
      "Iter. 17: 6.58 s\n",
      "Iter. 18: 6.61 s\n",
      "Iter. 19: 6.60 s\n",
      "Iter. 20: 6.59 s\n",
      "Iter. 21: 6.59 s\n",
      "Iter. 22: 6.60 s\n",
      "Iter. 23: 6.59 s\n",
      "Iter. 24: 6.64 s\n"
     ]
    }
   ],
   "source": [
    "# Run the algorithm with correct parameter values.\n",
    "beta = 0.8\n",
    "iterations = 25\n",
    "\n",
    "MSE = alternate_pagerank(M, source_nodes_list, degree_list, dest_nodes_list, v_old, beta, iterations)"
   ]
  },
  {
   "cell_type": "code",
   "execution_count": 8,
   "metadata": {},
   "outputs": [
    {
     "data": {
      "image/png": "[encoded data removed]",
      "text/plain": [
       "<Figure size 1008x576 with 1 Axes>"
      ]
     },
     "metadata": {
      "needs_background": "light"
     },
     "output_type": "display_data"
    }
   ],
   "source": [
    "# Plot the error over iterations.\n",
    "plt.figure(figsize=(14,8))\n",
    "plt.plot(np.arange(0,len(MSE)),MSE,'-o',c='k')\n",
    "plt.title('MSE over iterations',fontsize=16)\n",
    "plt.xlabel('Number of iterations',fontsize=14)\n",
    "plt.ylabel('MSE (Mean Squared Error)',fontsize=14)\n",
    "plt.grid()\n",
    "plt.show()\n",
    "plt.close()"
   ]
  },
  {
   "cell_type": "markdown",
   "metadata": {},
   "source": [
    "**Question**: *How much time is needed to run a single iteration?* Approximately 2 seconds per iteration on our computer (at home)."
   ]
  },
  {
   "cell_type": "markdown",
   "metadata": {},
   "source": [
    "**Question**: *Have you obtained similar/identical results as in the previous task? What might be the source of eventual differences?* When comparing the results of this alternate PageRank algorithm with the results from the sparse.ipynb it becomes clear that the matrix multiplications are much faster than the triple for loop of the alternate PageRank method. Even though it only takes 2 seconds per iteration, this method will take substantially longer as the size of the dataset increases. Interestingly, after a single iteration the MSE of the alternate PageRank is incredibly close to 0. Strangely the MSE increases over time."
   ]
  }
 ],
 "metadata": {
  "kernelspec": {
   "display_name": "Python 3",
   "language": "python",
   "name": "python3"
  },
  "language_info": {
   "codemirror_mode": {
    "name": "ipython",
    "version": 3
   },
   "file_extension": ".py",
   "mimetype": "text/x-python",
   "name": "python",
   "nbconvert_exporter": "python",
   "pygments_lexer": "ipython3",
   "version": "3.7.4"
  }
 },
 "nbformat": 4,
 "nbformat_minor": 2
}
