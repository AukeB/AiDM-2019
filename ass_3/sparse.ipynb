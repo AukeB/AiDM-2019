{
 "cells": [
  {
   "cell_type": "markdown",
   "metadata": {},
   "source": [
    "# AiDM 2019 Group 26: Assignment 3: Structure of Wikipedia Links\n"
   ]
  },
  {
   "cell_type": "markdown",
   "metadata": {},
   "source": [
    "## Part 3: Implement PageRank algorithm (sparse)"
   ]
  },
  {
   "cell_type": "markdown",
   "metadata": {},
   "source": [
    "Auke Bruinsma, s1594443 and Simon van Wageningen, s2317079."
   ]
  },
  {
   "cell_type": "markdown",
   "metadata": {},
   "source": [
    "**Instructions slide 24**:\n",
    "\n",
    "- Store both $M$ (as a sparse matrix) and $v$ (in RAM).\n",
    "- Run 25 iterations of the 'classical' update rule from slide 10, with $\\beta = 0.8$.\n",
    "- Plot the MSE of the differences (25 numbers): $v$ - $MV$\n",
    "- Assume that your computer has 1GM RAM and the average out-degree of a graph $G$ is $15$."
   ]
  },
  {
   "cell_type": "markdown",
   "metadata": {},
   "source": [
    "### 1. Imports."
   ]
  },
  {
   "cell_type": "code",
   "execution_count": 1,
   "metadata": {},
   "outputs": [],
   "source": [
    "# Packages.\n",
    "import pandas as pd\n",
    "import numpy as np\n",
    "from matplotlib import pyplot as plt\n",
    "from scipy.sparse import csc_matrix"
   ]
  },
  {
   "cell_type": "code",
   "execution_count": 2,
   "metadata": {},
   "outputs": [],
   "source": [
    "# Datasets\n",
    "data = pd.read_csv(\"preprocessed_data.csv\",sep = \",\",)"
   ]
  },
  {
   "cell_type": "markdown",
   "metadata": {},
   "source": [
    "### 2. Create the transition matrix $M$ and pagerank vector $v$."
   ]
  },
  {
   "cell_type": "code",
   "execution_count": 3,
   "metadata": {},
   "outputs": [],
   "source": [
    "M_ones = csc_matrix((np.ones(len(data)),(data['page_id_to'],data['page_id_from']))) # Transition matrix with 1's.\n",
    "c = np.reshape(np.asarray(M_ones.sum(axis=0)),np.shape(M_ones)[0]) # Find the sum so that you can divide columns.\n",
    "c[c==0]=1 # So you do not divide by zero but the column stays the same.\n",
    "M = M_ones.multiply(1/c) # Divide columns by the sum of the columns (equal weights).\n",
    "v = np.full(shape=np.shape(M)[1],fill_value=1/np.shape(M)[1]) # Initialise page vector v."
   ]
  },
  {
   "cell_type": "markdown",
   "metadata": {},
   "source": [
    "### 3. Classical Pagerank Algorithm."
   ]
  },
  {
   "cell_type": "code",
   "execution_count": 4,
   "metadata": {},
   "outputs": [],
   "source": [
    "# Function that performs the classical pagerank algorithm.\n",
    "def classical_pagerank(M,v,beta,iterations):\n",
    "    n = np.shape(M)[1]\n",
    "    e = np.ones(n)\n",
    "    \n",
    "    MSE = [] # The errors of each iterations will be appended to this array.\n",
    "    for i in range(iterations):\n",
    "        v = beta*M.dot(v)+(1-beta)*(e/n) # Formula from slide 10.\n",
    "        MSE.append(np.mean(np.power(v-M.dot(v),2))) # Compute the mean squared error of the difference. \n",
    "    \n",
    "    return MSE"
   ]
  },
  {
   "cell_type": "code",
   "execution_count": 5,
   "metadata": {},
   "outputs": [],
   "source": [
    "# Run the algorithm with correct parameter values.\n",
    "beta = 0.8\n",
    "iterations = 25\n",
    "\n",
    "MSE = classical_pagerank(M,v,beta,iterations)"
   ]
  },
  {
   "cell_type": "code",
   "execution_count": 6,
   "metadata": {},
   "outputs": [
    {
     "data": {
      "image/png": "[encoded data removed]",
      "text/plain": [
       "<Figure size 1008x576 with 1 Axes>"
      ]
     },
     "metadata": {
      "needs_background": "light"
     },
     "output_type": "display_data"
    }
   ],
   "source": [
    "# Plot the error over iterations.\n",
    "plt.figure(figsize=(14,8))\n",
    "plt.plot(np.arange(0,len(MSE)),MSE,'-o',c='k')\n",
    "plt.title('MSE over iterations',fontsize=16)\n",
    "plt.xlabel('Number of iterations',fontsize=14)\n",
    "plt.ylabel('MSE (Mean Squared Error)',fontsize=14)\n",
    "plt.grid()\n",
    "plt.show()\n",
    "plt.close()"
   ]
  },
  {
   "cell_type": "markdown",
   "metadata": {},
   "source": [
    "**Caption**: As you can see, the error quickly converges to somewhere around $3$, and after approximately 8 iterations there's no significant improvement."
   ]
  },
  {
   "cell_type": "markdown",
   "metadata": {},
   "source": [
    "**Question**: Assume that your computer has 1GB RAM and the average out-degree of a graph $G$ is $15$. What is the maximal number of nodes of $G$ such that your algorithm could be executed on your computer?"
   ]
  },
  {
   "cell_type": "markdown",
   "metadata": {},
   "source": [
    "**Answer**: Each marix element is 64 bits or 8 bytes. Since each matrix element represents an edge, each connection between two pages is 8 bytes. The average out-degree of a graph $G$ is 15, so each graph equals $15 \\cdot 8 = 120$ bytes. The maximum number of nodes of $G$ can then be computed in the following way:\n",
    "\n",
    "$$ \\frac{1 \\text{ GB } * 1024^{2}}{120 \\text{ bytes}} \\approx 8.738 \\text{ nodes}$$"
   ]
  }
 ],
 "metadata": {
  "kernelspec": {
   "display_name": "Python 3",
   "language": "python",
   "name": "python3"
  },
  "language_info": {
   "codemirror_mode": {
    "name": "ipython",
    "version": 3
   },
   "file_extension": ".py",
   "mimetype": "text/x-python",
   "name": "python",
   "nbconvert_exporter": "python",
   "pygments_lexer": "ipython3",
   "version": "3.7.4"
  }
 },
 "nbformat": 4,
 "nbformat_minor": 2
}
