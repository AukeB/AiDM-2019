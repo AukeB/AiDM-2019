{
 "cells": [
  {
   "cell_type": "markdown",
   "metadata": {},
   "source": [
    "# AiDM 2019: Assignment 1 - Recommender Systems"
   ]
  },
  {
   "cell_type": "markdown",
   "metadata": {},
   "source": [
    "Auke Bruinsma, s1594443"
   ]
  },
  {
   "cell_type": "code",
   "execution_count": 34,
   "metadata": {},
   "outputs": [],
   "source": [
    "# Imports\n",
    "import numpy as np\n",
    "from matplotlib import pyplot as plt\n",
    "import pandas as pd\n",
    "from numpy import genfromtxt"
   ]
  },
  {
   "cell_type": "code",
   "execution_count": 52,
   "metadata": {},
   "outputs": [
    {
     "name": "stderr",
     "output_type": "stream",
     "text": [
      "/software/local/lib64/python3.7/site-packages/ipykernel_launcher.py:2: ParserWarning: Falling back to the 'python' engine because the 'c' engine does not support regex separators (separators > 1 char and different from '\\s+' are interpreted as regex); you can avoid this warning by specifying engine='python'.\n",
      "  \n",
      "/software/local/lib64/python3.7/site-packages/ipykernel_launcher.py:3: ParserWarning: Falling back to the 'python' engine because the 'c' engine does not support regex separators (separators > 1 char and different from '\\s+' are interpreted as regex); you can avoid this warning by specifying engine='python'.\n",
      "  This is separate from the ipykernel package so we can avoid doing imports until\n",
      "/software/local/lib64/python3.7/site-packages/ipykernel_launcher.py:4: ParserWarning: Falling back to the 'python' engine because the 'c' engine does not support regex separators (separators > 1 char and different from '\\s+' are interpreted as regex); you can avoid this warning by specifying engine='python'.\n",
      "  after removing the cwd from sys.path.\n"
     ]
    }
   ],
   "source": [
    "# Import datasets and infer a header with the correct column labels.\n",
    "ratings = pd.read_csv(filepath_or_buffer='data/ml-1m/ratings.dat',sep='::',header=None,names=['UserID','MovieID','Rating','Timestamp'])\n",
    "users = pd.read_csv(filepath_or_buffer='data/ml-1m/users.dat',sep='::',header=None,names=['UserID','Gender','Age','Occupation','Zip-code'])\n",
    "movies = pd.read_csv(filepath_or_buffer='data/ml-1m/movies.dat',sep='::',header=None,names=['MovieID','Title','Genres'])"
   ]
  },
  {
   "cell_type": "markdown",
   "metadata": {},
   "source": [
    "### 4 Naive approaches.\n",
    "These approaches are taken from slide 17 of lecture 2: Recommender systems."
   ]
  },
  {
   "cell_type": "markdown",
   "metadata": {},
   "source": [
    "Approach 1: $R_{\\text{global}}$(User,Item) = mean(all ratings)"
   ]
  },
  {
   "cell_type": "code",
   "execution_count": 123,
   "metadata": {},
   "outputs": [],
   "source": [
    "def global_():\n",
    "    return np.average(ratings['Rating'])"
   ]
  },
  {
   "cell_type": "code",
   "execution_count": 124,
   "metadata": {},
   "outputs": [
    {
     "name": "stdout",
     "output_type": "stream",
     "text": [
      "R_global = 3.581564453029317\n"
     ]
    }
   ],
   "source": [
    "R_global = global_()\n",
    "print('R_global = {0}'.format(R_global))"
   ]
  },
  {
   "cell_type": "markdown",
   "metadata": {},
   "source": [
    "Approach 2: $R_{\\text{item}}$(User,Item) = mean(all ratings for Item)"
   ]
  },
  {
   "cell_type": "code",
   "execution_count": 128,
   "metadata": {},
   "outputs": [],
   "source": [
    "def item(MovieID):\n",
    "    item_arr = np.where(ratings['MovieID']==MovieID)\n",
    "    average_rating = 0\n",
    "    for i in range(len(item_arr[0])):\n",
    "        average_rating += ratings['Rating'][item_arr[0][i]]\n",
    "    average_rating /= float(len(item_arr[0]))\n",
    "    return average_rating"
   ]
  },
  {
   "cell_type": "code",
   "execution_count": 126,
   "metadata": {},
   "outputs": [
    {
     "name": "stdout",
     "output_type": "stream",
     "text": [
      "MovieID = 1193 gives R_item = 4.390724637681159\n"
     ]
    }
   ],
   "source": [
    "MovieID = 1193\n",
    "R_item = item(MovieID)\n",
    "print('MovieID = {0} gives R_item = {1}'.format(MovieID,R_item))"
   ]
  },
  {
   "cell_type": "markdown",
   "metadata": {},
   "source": [
    "Approach 3: $R_{\\text{user}}$(User,Item) = mean(all ratings for User)"
   ]
  },
  {
   "cell_type": "code",
   "execution_count": 129,
   "metadata": {},
   "outputs": [],
   "source": [
    "def user(UserID):\n",
    "    user_arr = np.where(ratings['UserID']==1)\n",
    "    average_rating = 0\n",
    "    for i in range(len(user_arr[0])):\n",
    "        average_rating += ratings['Rating'][user_arr[0][i]]\n",
    "    average_rating /= float(len(user_arr[0]))\n",
    "    return average_rating"
   ]
  },
  {
   "cell_type": "code",
   "execution_count": 130,
   "metadata": {},
   "outputs": [
    {
     "name": "stdout",
     "output_type": "stream",
     "text": [
      "UserID = 1 gives R_user = 4.188679245283019\n"
     ]
    }
   ],
   "source": [
    "UserID = 1\n",
    "R_user = user(UserID)\n",
    "print('UserID = {0} gives R_user = {1}'.format(UserID,R_user))"
   ]
  },
  {
   "cell_type": "markdown",
   "metadata": {},
   "source": [
    "Approach 4: $R_{\\text{user*-item}}$(User,Item) = $\\alpha$* $R_{\\text{user}}$(User,Item) + $\\beta$* $R_{\\text{item}}$(User,Item) + $\\gamma$ <br>\n",
    "(parameters $\\alpha, \\beta, \\gamma$ estimated with linear regression."
   ]
  },
  {
   "cell_type": "code",
   "execution_count": 139,
   "metadata": {},
   "outputs": [],
   "source": [
    "def user_item(R_user,R_item):\n",
    "    input_arr = np.array([R_user,R_item,1])\n",
    "    print(input_arr)\n",
    "    return('')"
   ]
  },
  {
   "cell_type": "code",
   "execution_count": 140,
   "metadata": {},
   "outputs": [
    {
     "name": "stdout",
     "output_type": "stream",
     "text": [
      "[4.18867925 4.39072464 1.        ]\n",
      "\n"
     ]
    }
   ],
   "source": [
    "userID = 1; movieID = 1193\n",
    "R_user_item = user_item(user(userID),item(movieID))\n",
    "print(R_user_item)"
   ]
  },
  {
   "cell_type": "code",
   "execution_count": 133,
   "metadata": {},
   "outputs": [],
   "source": [
    "#print(ratings)"
   ]
  },
  {
   "cell_type": "code",
   "execution_count": null,
   "metadata": {},
   "outputs": [],
   "source": []
  }
 ],
 "metadata": {
  "kernelspec": {
   "display_name": "Python 3",
   "language": "python",
   "name": "python3"
  },
  "language_info": {
   "codemirror_mode": {
    "name": "ipython",
    "version": 3
   },
   "file_extension": ".py",
   "mimetype": "text/x-python",
   "name": "python",
   "nbconvert_exporter": "python",
   "pygments_lexer": "ipython3",
   "version": "3.7.4"
  }
 },
 "nbformat": 4,
 "nbformat_minor": 2
}
