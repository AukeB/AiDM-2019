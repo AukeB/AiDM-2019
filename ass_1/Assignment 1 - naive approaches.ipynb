{
 "cells": [
  {
   "cell_type": "markdown",
   "metadata": {},
   "source": [
    "## Assignment 1 - Group 26 - Naive Approaches"
   ]
  },
  {
   "cell_type": "markdown",
   "metadata": {},
   "source": [
    "For this assignment the Movielens dataset with 1 million records is used.\n",
    "\n",
    "In this notebook 4 naive approaches are implemented in an attempt to find a low error rate in the form of Root Mean Square Error."
   ]
  },
  {
   "cell_type": "markdown",
   "metadata": {},
   "source": [
    "First we import the necessary packages, set the seed and load the data."
   ]
  },
  {
   "cell_type": "code",
   "execution_count": 88,
   "metadata": {},
   "outputs": [],
   "source": [
    "# import packages\n",
    "import numpy as np\n",
    "np.warnings.filterwarnings('ignore')\n",
    "import pandas as pd\n",
    "import random\n",
    "import time \n",
    "import matplotlib.pyplot as plt\n",
    "import matplotlib.lines as mlines\n",
    "random.seed(26)\n"
   ]
  },
  {
   "cell_type": "code",
   "execution_count": 89,
   "metadata": {},
   "outputs": [],
   "source": [
    "# load the users, ratings and movies\n",
    "users = pd.read_csv(\"ml-1m/users.dat\", sep = \"::\", engine = \"python\", header = None)\n",
    "ratings = pd.read_csv(\"ml-1m/ratings.dat\", sep = \"::\", engine = \"python\", header = None)\n",
    "ratings.columns = ['UserID', 'MovieID', 'Rating', 'Timestamp']\n",
    "movies = pd.read_csv(\"ml-1m/movies.dat\", sep = \"::\", engine = \"python\", header = None)\n",
    "\n",
    "# create a dataframe with items and then sort\n",
    "ratings_df = ratings[['MovieID', 'Rating']]\n",
    "ratings_df = ratings_df.sort_values(by = ['MovieID'])\n",
    "\n",
    "# create a dataframe with users\n",
    "users_df = ratings[['UserID', 'Rating']]\n"
   ]
  },
  {
   "cell_type": "markdown",
   "metadata": {},
   "source": [
    "Instead of writing the code for all 4 approaches in one big block, the code is separated into different methods for readability and efficiency."
   ]
  },
  {
   "cell_type": "code",
   "execution_count": 90,
   "metadata": {},
   "outputs": [],
   "source": [
    "# method to calculate the Root Mean Square Error with 2 inputs\n",
    "def RootMeanSquare(predicted, actual):\n",
    "    return np.sqrt(sum((predicted - actual) ** 2) / len(actual))"
   ]
  },
  {
   "cell_type": "code",
   "execution_count": 91,
   "metadata": {},
   "outputs": [],
   "source": [
    "# naive method 1, get the mean of all ratings\n",
    "def R_global(data, columnname = 'Rating'):\n",
    "    return np.mean(data[columnname])"
   ]
  },
  {
   "cell_type": "code",
   "execution_count": 92,
   "metadata": {},
   "outputs": [],
   "source": [
    "# naive method 2, get the mean of all ratings for that particular item\n",
    "def R_item(data, columnname = 'MovieID'):\n",
    "    # group by and get the means, now it's in a short format\n",
    "    grouped = data.groupby(columnname, as_index = False).mean()\n",
    "    return grouped"
   ]
  },
  {
   "cell_type": "code",
   "execution_count": 93,
   "metadata": {},
   "outputs": [],
   "source": [
    "# naive method 3, get the mean of all ratings for that particular user\n",
    "def R_user(data, columnname = 'UserID'):\n",
    "    # group by and get the means, now it's in a short format\n",
    "    grouped = data.groupby(columnname, as_index = False).mean()\n",
    "    return grouped"
   ]
  },
  {
   "cell_type": "markdown",
   "metadata": {},
   "source": [
    "Now we have defined the error function as well as the first 3 naive approaches. Next up we define the CrossValidation function where we split the data into 5 folds."
   ]
  },
  {
   "cell_type": "code",
   "execution_count": 94,
   "metadata": {},
   "outputs": [],
   "source": [
    "# crossvalidation method that trains the data, crossvalidates and calculates the error\n",
    "def CrossValidation(model_function, data, RootMeanSquare_function = RootMeanSquare, return_df = False):\n",
    "    \n",
    "    # keep track of the duration of the computations\n",
    "    start_time = time.time()\n",
    "    \n",
    "    # shuffle the data\n",
    "    data = data.sample(frac = 1)\n",
    "    \n",
    "    # 5-fold crossvalidation, get the indices for the folds\n",
    "    splice_number = int(len(data) / 5)\n",
    "    fold_1 = 0\n",
    "    fold_2 = splice_number * 1\n",
    "    fold_3 = splice_number * 2\n",
    "    fold_4 = splice_number * 3\n",
    "    fold_5 = splice_number * 4\n",
    "    \n",
    "    # create the folds\n",
    "    test_1 = data.iloc[range(fold_1, fold_2)] # fold 1 as testset\n",
    "    test_2 = data.iloc[range(fold_2, fold_3)] # fold 2 as testset\n",
    "    test_3 = data.iloc[range(fold_3, fold_4)] # fold 3 as testset\n",
    "    test_4 = data.iloc[range(fold_4, fold_5)] # fold 4 as testset\n",
    "    test_5 = data.iloc[range(fold_5, len(data))]\n",
    "       \n",
    "    # train sets are combination of folds that are not the testset\n",
    "    train_1 = data.iloc[range(fold_2, len(data))]\n",
    "    train_2 = pd.concat([test_1, test_3, test_4, test_5])\n",
    "    train_3 = pd.concat([test_1, test_2, test_4, test_5])\n",
    "    train_4 = pd.concat([test_1, test_2, test_3, test_5])\n",
    "    train_5 = data.iloc[range(fold_1, fold_5)]\n",
    "    \n",
    "    # put the folds into a list so that they can be looped over\n",
    "    test_list = [test_1, test_2, test_3, test_4, test_5]\n",
    "    train_list = [train_1, train_2, train_3, train_4, train_5]\n",
    "    \n",
    "    # initialize result lists\n",
    "    RMSE_list = [0] * len(train_list)\n",
    "    \n",
    "    # apply the function to 4 folds and train, then test on the other, do this for all combinations\n",
    "    # loop over the train sets\n",
    "    if model_function == R_global:\n",
    "        \n",
    "        for i in range(len(test_list)): \n",
    "            # get the predicted values\n",
    "            predicted = model_function(train_list[i])\n",
    "            \n",
    "            # get the error\n",
    "            RMSE_list[i] = RootMeanSquare_function(predicted = predicted, actual = test_list[i]['Rating'])\n",
    "            \n",
    "        # get the ending time\n",
    "        end_time = time.time()\n",
    "        return([np.mean(RMSE_list), (end_time - start_time)])\n",
    "    \n",
    "   # loop looks differently for the other naive methods\n",
    "    else:\n",
    "        # initialize a list in which the dataframes will be put\n",
    "        merged_dfs = [0] * len(train_list)\n",
    "        \n",
    "        for i in range(len(train_list)):\n",
    "            predicted = model_function(train_list[i])\n",
    "            \n",
    "            # different columnname for different function\n",
    "            if model_function == R_item:\n",
    "                columnname = 'MovieID'\n",
    "            elif model_function == R_user:\n",
    "                columnname = 'UserID'\n",
    "\n",
    "            # rename column from rating to predicted as these are now the predicted values\n",
    "            predicted.rename(columns = {'Rating' : 'Predicted'}, inplace = True)\n",
    "            \n",
    "            # merge the test dataframe with the predicted dataframe (which contains the predicted values)\n",
    "            merged = pd.merge(test_list[i], predicted, how = 'left', on = columnname)\n",
    "            # drop na values that occur because some items/users are not present in either\n",
    "            merged = merged.dropna()\n",
    "            \n",
    "            # add this to a list in case we want to return it (for the regression)\n",
    "            merged_dfs[i] = merged \n",
    "            \n",
    "            # now we get the error\n",
    "            RMSE_list[i] = RootMeanSquare_function(predicted = merged['Predicted'], actual = merged['Rating'])\n",
    "    \n",
    "        # get the ending time\n",
    "        end_time = time.time()\n",
    "        # return df option needed for linear regression\n",
    "        return([np.mean(RMSE_list), (end_time - start_time), merged_dfs])\n",
    "\n"
   ]
  },
  {
   "cell_type": "markdown",
   "metadata": {},
   "source": [
    "Before we run the CrossValidation method for the first three naive approaches we define the 4th final approach, the LinearRegression method. This method takes the dataframes from the 2nd and 3rd approaches (already shuffled and k-folded) rather than redoing the computations."
   ]
  },
  {
   "cell_type": "code",
   "execution_count": 95,
   "metadata": {},
   "outputs": [],
   "source": [
    "# naive method 4, get the means of the items and users respectively, plug those into a regression formula\n",
    "def R_LinearRegression(R_item_data, R_user_data):\n",
    "    \n",
    "    start_time = time.time()\n",
    "    \n",
    "    # initialize result list\n",
    "    RMSE_list = [0] * len(R_item_data)\n",
    "\n",
    "    # loop over the different folds\n",
    "    for i in range(len(R_item_data)):\n",
    "        \n",
    "        # get the current dataframes, easy to do operations on without additional indexing\n",
    "        R_item_current = R_item_data[i]\n",
    "        R_user_current = R_user_data[i]\n",
    "        # remove unnecessary merged columns\n",
    "        R_item_current = R_item_current[['UserID_x', 'MovieID', 'Rating', 'Predicted']]\n",
    "        R_user_current = R_user_current[['UserID', 'MovieID_x', 'Rating', 'Predicted']]\n",
    "        # rename columns for merging\n",
    "        R_item_current.rename(columns = {'UserID_x' : 'UserID', 'Predicted' : 'Predicted_item_based'}, inplace = True)\n",
    "        R_user_current.rename(columns = {'MovieID_x' : 'MovieID', 'Predicted' : 'Predicted_user_based'}, inplace = True)\n",
    "        \n",
    "        # merge\n",
    "        merged = pd.merge(R_item_current, R_user_current, how = 'left', on = ['UserID', 'MovieID'])\n",
    "        # the merge will create a dataframe with many NaN values, makes sense since some users/items are not in the other dataframe\n",
    "        merged = merged.dropna()\n",
    "\n",
    "        # get our variables for the regression\n",
    "        R_item = merged['Predicted_item_based']\n",
    "        R_user = merged['Predicted_user_based']\n",
    "        # put them in a matrix with an intercept\n",
    "        X = np.vstack([R_item, R_user, np.ones(len(R_item))]).T\n",
    "        y = merged['Rating_x'] # doesn't matter whether we pick the rating_x or rating_y from the dataframe, they are equal (proven)\n",
    "        \n",
    "        # run the regression\n",
    "        S = np.linalg.lstsq(X,y)\n",
    "        \n",
    "        # S[1] contains the sum of squared residuals, so now we only need to divide by n and take the sqrt\n",
    "        RMSE_list = np.sqrt(S[1] / len(R_item))\n",
    "        \n",
    "        # get the ending time\n",
    "        end_time = time.time()\n",
    "        \n",
    "    return([np.mean(RMSE_list), (end_time - start_time)])\n"
   ]
  },
  {
   "cell_type": "markdown",
   "metadata": {},
   "source": [
    "Now we can run the CrossValidation method for all 4 naive approaches. Since we're reusing the dataframes generated by the 2nd and 3rd methods for the 4th method (linear regression), the total computation time for the regression method is equal to the computation time of the 2nd + 3rd and 4th."
   ]
  },
  {
   "cell_type": "code",
   "execution_count": 96,
   "metadata": {},
   "outputs": [
    {
     "name": "stdout",
     "output_type": "stream",
     "text": [
      "The Average RMSE on the test set of the Global Mean approach, averaged over 5 different folds, is equal to:  1.117100815433041 \n",
      " This method took:  0.4828026294708252  seconds.\n",
      "The Average RMSE on the test set of the Movie Mean approach, averaged over 5 different folds, is equal to:  0.9792654593134344 \n",
      " This method took:  0.9664146900177002  seconds.\n",
      "The Average RMSE on the test set of the User Mean approach, averaged over 5 different folds, is equal to:  1.0355078761213214 \n",
      " This method took:  0.9575314521789551  seconds.\n",
      "The Average RMSE on the test set of the Regression approach, averaged over 5 different folds, is equal to:  0.9254276785897628 \n",
      " This method took:  2.4502594470977783  seconds. \n",
      "\n",
      "The regression calculations (excluding the Movie/User Mean computation times) took:  0.526313304901123\n"
     ]
    }
   ],
   "source": [
    "R_global_results, total_time_global = CrossValidation(R_global, ratings[['MovieID', 'Rating']])\n",
    "print('The Average RMSE on the test set of the Global Mean approach, averaged over 5 different folds, is equal to: ', R_global_results, '\\n', 'This method took: ', total_time_global, ' seconds.')\n",
    "R_item_results, total_time_item, R_item_df_list = CrossValidation(R_item, ratings)\n",
    "print('The Average RMSE on the test set of the Movie Mean approach, averaged over 5 different folds, is equal to: ', R_item_results, '\\n', 'This method took: ', total_time_item, ' seconds.')\n",
    "R_user_results, total_time_user, R_user_df_list = CrossValidation(R_user, ratings)\n",
    "print('The Average RMSE on the test set of the User Mean approach, averaged over 5 different folds, is equal to: ', R_user_results, '\\n', 'This method took: ', total_time_user, ' seconds.')\n",
    "R_regression_results, total_time_regression = R_LinearRegression(R_item_df_list, R_user_df_list)\n",
    "print('The Average RMSE on the test set of the Regression approach, averaged over 5 different folds, is equal to: ', R_regression_results, '\\n', 'This method took: ', total_time_item + total_time_user + total_time_regression, ' seconds. \\n')\n",
    "print('The regression calculations (excluding the Movie/User Mean computation times) took: ', total_time_regression)"
   ]
  },
  {
   "cell_type": "code",
   "execution_count": 97,
   "metadata": {},
   "outputs": [
    {
     "data": {
      "image/png": "[encoded data removed]",
      "text/plain": [
       "<Figure size 432x288 with 1 Axes>"
      ]
     },
     "metadata": {
      "needs_background": "light"
     },
     "output_type": "display_data"
    }
   ],
   "source": [
    "# plot the data\n",
    "fig = plt.figure()\n",
    "ax = fig.gca()\n",
    "# different markers for the approaches\n",
    "ax.scatter(total_time_global, R_global_results, marker = 'o')\n",
    "ax.scatter(total_time_item, R_item_results, marker = 'x')\n",
    "ax.scatter(total_time_user, R_user_results, marker = 's')\n",
    "ax.scatter(total_time_regression, R_regression_results, marker = '1')\n",
    "ax.scatter((total_time_item + total_time_user + total_time_regression), R_regression_results, marker = 'v')\n",
    "\n",
    "\n",
    "plt.xlabel('Computation time')\n",
    "plt.ylabel('RMSE')\n",
    "plt.title(\"Tradeof of methods' 'complexity' against time\")\n",
    "# add legend for markers\n",
    "global_mark = mlines.Line2D([], [], marker='o', markersize=10, label='Global approach')\n",
    "item_mark = mlines.Line2D([], [], marker='x', markersize=10, label='Item approach')\n",
    "user_mark = mlines.Line2D([], [], marker='s', markersize=10, label='User approach')\n",
    "reg_mark = mlines.Line2D([], [], marker='1', markersize=10, label='Regression (excl) approach')\n",
    "tot_reg_mark = mlines.Line2D([], [], marker='v', markersize=10, label='Regression (incl) approach')\n",
    "\n",
    "plt.legend(handles=[global_mark, item_mark, user_mark, reg_mark, tot_reg_mark])\n",
    "plt.show()\n",
    "#plt.plot([total_time_global, total_time_item, total_time_user, total_time_item + total_time_user + total_time_regression], [R_global_results, R_item_results, R_user_results, R_regression_results], 'ro')"
   ]
  },
  {
   "cell_type": "markdown",
   "metadata": {},
   "source": [
    "From the results as well as the simple graph it is clear that the global mean can be easily and hastily computed, though its results are not too favourable with an RMSE of ~1.12\n",
    "\n",
    "Interestingly, we expected that the 3rd naive approach (the mean of the ratings based on the userID) would yield a better RMSE than the 1st and 2nd naive approaches. The results indicate that taking the mean based on all of the items and using that as a predictor works best out of the first 3 approaches.\n",
    "\n",
    "The best working approach turns out to be the regression approach. In the graph 2 points indicate the regression approach's results. The (excl) denotes the computation time for just the regression calculation whereas the (incl) also includes the time it takes to compute the Item and the User approaches, which are both used in the regression approach. The regression computation itself is very quick ~0.53 seconds but the computations of the item and user approach inflate the total regression computation to ~2.57 seconds.\n",
    "\n",
    "In conclusion, the Linear Regression approach has the best performance based on RMSE minimization.\n",
    "\n"
   ]
  }
 ],
 "metadata": {
  "kernelspec": {
   "display_name": "Python 3",
   "language": "python",
   "name": "python3"
  },
  "language_info": {
   "codemirror_mode": {
    "name": "ipython",
    "version": 3
   },
   "file_extension": ".py",
   "mimetype": "text/x-python",
   "name": "python",
   "nbconvert_exporter": "python",
   "pygments_lexer": "ipython3",
   "version": "3.7.4"
  }
 },
 "nbformat": 4,
 "nbformat_minor": 2
}
